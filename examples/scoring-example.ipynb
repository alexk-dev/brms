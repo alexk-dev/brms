{
 "cells": [
  {
   "cell_type": "code",
   "execution_count": 92,
   "metadata": {
    "collapsed": true
   },
   "outputs": [],
   "source": [
    "import requests"
   ]
  },
  {
   "cell_type": "code",
   "execution_count": 93,
   "outputs": [],
   "source": [
    "API_PREFIX = 'http://localhost:8085'\n",
    "WORKFLOW_ID = 'scoring'"
   ],
   "metadata": {
    "collapsed": false
   }
  },
  {
   "cell_type": "markdown",
   "source": [
    "Rule #1"
   ],
   "metadata": {
    "collapsed": false
   }
  },
  {
   "cell_type": "code",
   "execution_count": 94,
   "outputs": [
    {
     "data": {
      "text/plain": "<Response [200]>"
     },
     "execution_count": 94,
     "metadata": {},
     "output_type": "execute_result"
    }
   ],
   "source": [
    "payload = {\n",
    "  \"workflowId\": WORKFLOW_ID,\n",
    "  \"id\": \"scoring-age\",\n",
    "  \"variables\": {\n",
    "    \"age\": {\n",
    "      \"type\": \"NUMERIC\"\n",
    "    }\n",
    "  },\n",
    "  \"when\": \"true\",\n",
    "  \"then\": \"if age < 21 then 100 else if age > 60 then 100 else 200\"\n",
    "}\n",
    "\n",
    "requests.post(url=\"{base}/rule/{workflow_id}\".format(base=API_PREFIX, workflow_id=payload.get(\"workflowId\")), json=payload)"
   ],
   "metadata": {
    "collapsed": false
   }
  },
  {
   "cell_type": "markdown",
   "source": [
    "Rule #2"
   ],
   "metadata": {
    "collapsed": false
   }
  },
  {
   "cell_type": "code",
   "execution_count": 95,
   "outputs": [
    {
     "data": {
      "text/plain": "<Response [200]>"
     },
     "execution_count": 95,
     "metadata": {},
     "output_type": "execute_result"
    }
   ],
   "source": [
    "payload = {\n",
    "  \"workflowId\": WORKFLOW_ID,\n",
    "  \"id\": \"scoring-checks-last-six-months\",\n",
    "  \"variables\": {\n",
    "    \"score_requests\": {\n",
    "      \"type\": \"NUMERIC\"\n",
    "    }\n",
    "  },\n",
    "  \"when\": \"true\",\n",
    "  \"then\": \"let {x: (100-score_requests*5);} if x < 0 then 0 else x\"\n",
    "}\n",
    "\n",
    "requests.post(url=\"{base}/rule/{workflow_id}\".format(base=API_PREFIX, workflow_id=payload.get(\"workflowId\")), json=payload)"
   ],
   "metadata": {
    "collapsed": false
   }
  },
  {
   "cell_type": "code",
   "execution_count": 96,
   "outputs": [
    {
     "data": {
      "text/plain": "<Response [200]>"
     },
     "execution_count": 96,
     "metadata": {},
     "output_type": "execute_result"
    }
   ],
   "source": [
    "payload = {\n",
    "  \"workflowId\": WORKFLOW_ID,\n",
    "  \"id\": \"scoring-overdue-debt\",\n",
    "  \"variables\": {\n",
    "    \"has_overdue_debt\": {\n",
    "      \"type\": \"BOOLEAN\"\n",
    "    }\n",
    "  },\n",
    "  \"when\": \"true\",\n",
    "  \"then\": \"if has_overdue_debt then 0 else 100\"\n",
    "}\n",
    "\n",
    "requests.post(url=\"{base}/rule/{workflow_id}\".format(base=API_PREFIX, workflow_id=payload.get(\"workflowId\")), json=payload)\n"
   ],
   "metadata": {
    "collapsed": false
   }
  },
  {
   "cell_type": "code",
   "execution_count": 106,
   "outputs": [
    {
     "data": {
      "text/plain": "<Response [200]>"
     },
     "execution_count": 106,
     "metadata": {},
     "output_type": "execute_result"
    }
   ],
   "source": [
    "payload = {\n",
    "  \"workflowId\": WORKFLOW_ID,\n",
    "  \"id\": \"scoring-overdue-debt-over90days-last12months\",\n",
    "  \"variables\": {\n",
    "    \"has_overdue_debt_90days\": {\n",
    "      \"type\": \"BOOLEAN\"\n",
    "    }\n",
    "  },\n",
    "  \"when\": \"true\",\n",
    "  \"then\": \"if has_overdue_debt_90days then 0 else 100\"\n",
    "}\n",
    "\n",
    "requests.post(url=\"{base}/rule/{workflow_id}\".format(base=API_PREFIX, workflow_id=payload.get(\"workflowId\")), json=payload)"
   ],
   "metadata": {
    "collapsed": false
   }
  },
  {
   "cell_type": "code",
   "execution_count": 98,
   "outputs": [
    {
     "data": {
      "text/plain": "<Response [200]>"
     },
     "execution_count": 98,
     "metadata": {},
     "output_type": "execute_result"
    }
   ],
   "source": [
    "payload = {\n",
    "  \"workflowId\": WORKFLOW_ID,\n",
    "  \"id\": \"scoring-max-parallel-credits-last12months\",\n",
    "  \"variables\": {\n",
    "    \"parallel_credits\": {\n",
    "      \"type\": \"NUMERIC\"\n",
    "    }\n",
    "  },\n",
    "  \"when\": \"true\",\n",
    "  \"then\": \"let {x: parallel_credits*50;} if x>200 then 200 else x\"\n",
    "}\n",
    "\n",
    "requests.post(url=\"{base}/rule/{workflow_id}\".format(base=API_PREFIX, workflow_id=payload.get(\"workflowId\")), json=payload)"
   ],
   "metadata": {
    "collapsed": false
   }
  },
  {
   "cell_type": "code",
   "execution_count": 102,
   "outputs": [
    {
     "data": {
      "text/plain": "<Response [200]>"
     },
     "execution_count": 102,
     "metadata": {},
     "output_type": "execute_result"
    }
   ],
   "source": [
    "payload = {\n",
    "  \"workflowId\": WORKFLOW_ID,\n",
    "  \"id\": \"scoring-credit-score\",\n",
    "  \"variables\": {\n",
    "    \"scoring_age_result\": {\n",
    "      \"rule_id\": \"scoring-age\",\n",
    "      \"type\": \"NUMERIC\"\n",
    "    },\n",
    "    \"scoring_checks_last_six_months_result\": {\n",
    "      \"rule_id\": \"scoring-checks-last-six-months\",\n",
    "      \"type\": \"NUMERIC\"\n",
    "    }\n",
    "  },\n",
    "  \"when\": \"true\",\n",
    "  \"then\": \"scoring_age_result+scoring_checks_last_six_months_result\"\n",
    "}\n",
    "\n",
    "requests.post(url=\"{base}/rule/{workflow_id}\".format(base=API_PREFIX, workflow_id=payload.get(\"workflowId\")), json=payload)"
   ],
   "metadata": {
    "collapsed": false
   }
  },
  {
   "cell_type": "markdown",
   "source": [
    "Rule test"
   ],
   "metadata": {
    "collapsed": false
   }
  },
  {
   "cell_type": "code",
   "execution_count": 107,
   "outputs": [
    {
     "data": {
      "text/plain": "'[{\"ruleId\":\"scoring-checks-last-six-months\",\"type\":\"NUMERIC\",\"value\":95,\"fits\":true},{\"ruleId\":\"scoring-credit-score\",\"type\":\"NUMERIC\",\"value\":195,\"fits\":true},{\"ruleId\":\"scoring-age\",\"type\":\"NUMERIC\",\"value\":100,\"fits\":true},{\"ruleId\":\"scoring-max-parallel-credits-last12months\",\"type\":\"NUMERIC\",\"value\":50,\"fits\":true},{\"ruleId\":\"scoring-overdue-debt\",\"type\":\"NUMERIC\",\"value\":100,\"fits\":true},{\"ruleId\":\"scoring-overdue-debt-over90days-last12months\",\"type\":\"NUMERIC\",\"value\":100,\"fits\":true}]'"
     },
     "execution_count": 107,
     "metadata": {},
     "output_type": "execute_result"
    }
   ],
   "source": [
    "payload = {\n",
    "  \"age\": 61,\n",
    "  \"score_requests\": 1,\n",
    "  \"has_overdue_debt\": False,\n",
    "  \"has_overdue_debt_90days\": False,\n",
    "  \"parallel_credits\": 1\n",
    "}\n",
    "\n",
    "response = requests.post(url=\"{base}/eval/{workflow_id}\".format(base=API_PREFIX, workflow_id=WORKFLOW_ID), json=payload)\n",
    "response.text"
   ],
   "metadata": {
    "collapsed": false
   }
  },
  {
   "cell_type": "code",
   "execution_count": 101,
   "outputs": [],
   "source": [],
   "metadata": {
    "collapsed": false
   }
  },
  {
   "cell_type": "code",
   "execution_count": 101,
   "outputs": [],
   "source": [],
   "metadata": {
    "collapsed": false
   }
  }
 ],
 "metadata": {
  "kernelspec": {
   "display_name": "Python 3",
   "language": "python",
   "name": "python3"
  },
  "language_info": {
   "codemirror_mode": {
    "name": "ipython",
    "version": 2
   },
   "file_extension": ".py",
   "mimetype": "text/x-python",
   "name": "python",
   "nbconvert_exporter": "python",
   "pygments_lexer": "ipython2",
   "version": "2.7.6"
  }
 },
 "nbformat": 4,
 "nbformat_minor": 0
}
