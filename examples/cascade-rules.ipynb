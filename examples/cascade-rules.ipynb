{
 "cells": [
  {
   "cell_type": "code",
   "execution_count": 1,
   "metadata": {
    "collapsed": true
   },
   "outputs": [],
   "source": [
    "import requests"
   ]
  },
  {
   "cell_type": "code",
   "execution_count": 2,
   "outputs": [],
   "source": [
    "API_PREFIX = 'http://localhost:8085'"
   ],
   "metadata": {
    "collapsed": false
   }
  },
  {
   "cell_type": "markdown",
   "source": [
    "Rule #1"
   ],
   "metadata": {
    "collapsed": false
   }
  },
  {
   "cell_type": "code",
   "execution_count": 3,
   "outputs": [
    {
     "data": {
      "text/plain": "<Response [200]>"
     },
     "execution_count": 3,
     "metadata": {},
     "output_type": "execute_result"
    }
   ],
   "source": [
    "payload = {\n",
    "  \"id\": \"rule-geometry1\",\n",
    "  \"variables\": {\n",
    "    \"w\": {\n",
    "      \"rule_id\": None,\n",
    "      \"var\": None,\n",
    "      \"type\": \"NUMERIC\"\n",
    "    },\n",
    "    \"h\": {\n",
    "      \"rule_id\": None,\n",
    "      \"var\": None,\n",
    "      \"type\": \"NUMERIC\"\n",
    "    }\n",
    "  },\n",
    "  \"when\": \"true\",\n",
    "  \"then\": \"{:is_square w==h, :square w*h}\"\n",
    "}\n",
    "\n",
    "requests.post(url=\"{base}/rule/\".format(base=API_PREFIX), json=payload)"
   ],
   "metadata": {
    "collapsed": false
   }
  },
  {
   "cell_type": "markdown",
   "source": [
    "Rule #2"
   ],
   "metadata": {
    "collapsed": false
   }
  },
  {
   "cell_type": "code",
   "execution_count": 4,
   "outputs": [
    {
     "data": {
      "text/plain": "<Response [200]>"
     },
     "execution_count": 4,
     "metadata": {},
     "output_type": "execute_result"
    }
   ],
   "source": [
    "payload = {\n",
    "  \"id\": \"rule-check-sq1\",\n",
    "  \"variables\": {\n",
    "    \"sq_factor\": {\n",
    "      \"rule_id\": \"rule-geometry1\",\n",
    "      \"var\": \"is_square\",\n",
    "      \"type\": \"BOOLEAN\"\n",
    "    }\n",
    "  },\n",
    "  \"when\": \"true\",\n",
    "  \"then\": \"if sq_factor then 'SQUARE' else 'NOT_SQUARE'\"\n",
    "}\n",
    "\n",
    "requests.post(url=\"{base}/rule/\".format(base=API_PREFIX), json=payload)"
   ],
   "metadata": {
    "collapsed": false
   }
  },
  {
   "cell_type": "markdown",
   "source": [
    "Rule test"
   ],
   "metadata": {
    "collapsed": false
   }
  },
  {
   "cell_type": "code",
   "execution_count": 5,
   "outputs": [
    {
     "data": {
      "text/plain": "'{\"type\":\"STRING\",\"value\":\"SQUARE\",\"fits\":true}'"
     },
     "execution_count": 5,
     "metadata": {},
     "output_type": "execute_result"
    }
   ],
   "source": [
    "rule_id = 'rule-check-sq1'\n",
    "payload = {\n",
    "  \"w\": 5,\n",
    "  \"h\": 5\n",
    "}\n",
    "\n",
    "response = requests.post(url=\"{base}/eval/{rule_id}\".format(base=API_PREFIX, rule_id=rule_id), json=payload)\n",
    "response.text"
   ],
   "metadata": {
    "collapsed": false
   }
  },
  {
   "cell_type": "code",
   "execution_count": 9,
   "outputs": [
    {
     "data": {
      "text/plain": "'{\"type\":\"DICT\",\"value\":{\"square\":27.5,\"is_square\":false},\"fits\":true}'"
     },
     "execution_count": 9,
     "metadata": {},
     "output_type": "execute_result"
    }
   ],
   "source": [
    "rule_id = 'rule-geometry1'\n",
    "payload = {\n",
    "  \"w\": 5.5,\n",
    "  \"h\": 5\n",
    "}\n",
    "\n",
    "response = requests.post(url=\"{base}/eval/{rule_id}\".format(base=API_PREFIX, rule_id=rule_id), json=payload)\n",
    "response.text"
   ],
   "metadata": {
    "collapsed": false
   }
  },
  {
   "cell_type": "code",
   "execution_count": 6,
   "outputs": [],
   "source": [],
   "metadata": {
    "collapsed": false
   }
  }
 ],
 "metadata": {
  "kernelspec": {
   "display_name": "Python 3",
   "language": "python",
   "name": "python3"
  },
  "language_info": {
   "codemirror_mode": {
    "name": "ipython",
    "version": 2
   },
   "file_extension": ".py",
   "mimetype": "text/x-python",
   "name": "python",
   "nbconvert_exporter": "python",
   "pygments_lexer": "ipython2",
   "version": "2.7.6"
  }
 },
 "nbformat": 4,
 "nbformat_minor": 0
}
