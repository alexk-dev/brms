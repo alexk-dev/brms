{
 "cells": [
  {
   "cell_type": "code",
   "execution_count": 1,
   "metadata": {
    "collapsed": true,
    "ExecuteTime": {
     "end_time": "2023-07-18T01:03:51.359711Z",
     "start_time": "2023-07-18T01:03:51.256560Z"
    }
   },
   "outputs": [],
   "source": [
    "import requests"
   ]
  },
  {
   "cell_type": "code",
   "execution_count": 2,
   "outputs": [],
   "source": [
    "API_PREFIX = 'http://localhost:8080'\n",
    "WORKFLOW_ID = 'test'"
   ],
   "metadata": {
    "collapsed": false,
    "ExecuteTime": {
     "end_time": "2023-07-18T01:03:51.363750Z",
     "start_time": "2023-07-18T01:03:51.360708Z"
    }
   }
  },
  {
   "cell_type": "code",
   "execution_count": 3,
   "outputs": [
    {
     "data": {
      "text/plain": "<Response [204]>"
     },
     "execution_count": 3,
     "metadata": {},
     "output_type": "execute_result"
    }
   ],
   "source": [
    "# create workflow\n",
    "payload = {\n",
    "  \"name\": \"test workflow\",\n",
    "}\n",
    "\n",
    "requests.post(url=\"{base}/workflow/{workflow_id}\".format(base=API_PREFIX, workflow_id=WORKFLOW_ID), json=payload)"
   ],
   "metadata": {
    "collapsed": false,
    "ExecuteTime": {
     "end_time": "2023-07-18T01:03:51.646248Z",
     "start_time": "2023-07-18T01:03:51.365183Z"
    }
   }
  },
  {
   "cell_type": "markdown",
   "source": [
    "Rule #1"
   ],
   "metadata": {
    "collapsed": false
   }
  },
  {
   "cell_type": "code",
   "execution_count": 4,
   "outputs": [
    {
     "data": {
      "text/plain": "<Response [204]>"
     },
     "execution_count": 4,
     "metadata": {},
     "output_type": "execute_result"
    }
   ],
   "source": [
    "payload = {\n",
    "  \"workflowId\": WORKFLOW_ID,\n",
    "  \"id\": \"rule-geometry1\",\n",
    "  \"variables\": {\n",
    "    \"w\": {\n",
    "      \"rule_id\": None,\n",
    "      \"var\": None,\n",
    "      \"type\": \"NUMERIC\"\n",
    "    },\n",
    "    \"h\": {\n",
    "      \"rule_id\": None,\n",
    "      \"var\": None,\n",
    "      \"type\": \"NUMERIC\"\n",
    "    }\n",
    "  },\n",
    "  \"when\": \"true\",\n",
    "  \"then\": \"{:is_square w==h, :square w*h}\"\n",
    "}\n",
    "\n",
    "requests.post(url=\"{base}/rule/{workflow_id}\".format(base=API_PREFIX, workflow_id=payload.get(\"workflowId\")), json=payload)"
   ],
   "metadata": {
    "collapsed": false,
    "ExecuteTime": {
     "end_time": "2023-07-18T01:03:51.703366Z",
     "start_time": "2023-07-18T01:03:51.646952Z"
    }
   }
  },
  {
   "cell_type": "markdown",
   "source": [
    "Rule #2"
   ],
   "metadata": {
    "collapsed": false
   }
  },
  {
   "cell_type": "code",
   "execution_count": 5,
   "outputs": [
    {
     "data": {
      "text/plain": "<Response [204]>"
     },
     "execution_count": 5,
     "metadata": {},
     "output_type": "execute_result"
    }
   ],
   "source": [
    "payload = {\n",
    "  \"workflowId\": WORKFLOW_ID,\n",
    "  \"id\": \"rule-check-sq1\",\n",
    "  \"variables\": {\n",
    "    \"sq_factor\": {\n",
    "      \"rule_id\": \"rule-geometry1\",\n",
    "      \"var\": \"is_square\",\n",
    "      \"type\": \"BOOLEAN\"\n",
    "    }\n",
    "  },\n",
    "  \"when\": \"true\",\n",
    "  \"then\": \"if sq_factor then 'SQUARE' else 'NOT_SQUARE'\"\n",
    "}\n",
    "\n",
    "requests.post(url=\"{base}/rule/{workflow_id}\".format(base=API_PREFIX, workflow_id=payload.get(\"workflowId\")), json=payload)"
   ],
   "metadata": {
    "collapsed": false,
    "ExecuteTime": {
     "end_time": "2023-07-18T01:03:51.720516Z",
     "start_time": "2023-07-18T01:03:51.706251Z"
    }
   }
  },
  {
   "cell_type": "markdown",
   "source": [
    "Rule test"
   ],
   "metadata": {
    "collapsed": false
   }
  },
  {
   "cell_type": "code",
   "execution_count": 6,
   "outputs": [
    {
     "data": {
      "text/plain": "'{\"ruleId\":\"rule-check-sq1\",\"type\":\"STRING\",\"value\":\"SQUARE\",\"fits\":true}'"
     },
     "execution_count": 6,
     "metadata": {},
     "output_type": "execute_result"
    }
   ],
   "source": [
    "rule_id = 'rule-check-sq1'\n",
    "payload = {\n",
    "  \"w\": 5,\n",
    "  \"h\": 5\n",
    "}\n",
    "\n",
    "response = requests.post(url=\"{base}/eval/{workflow_id}/{rule_id}\".format(base=API_PREFIX, workflow_id=WORKFLOW_ID, rule_id=rule_id), json=payload)\n",
    "response.text"
   ],
   "metadata": {
    "collapsed": false,
    "ExecuteTime": {
     "end_time": "2023-07-18T01:03:52.022008Z",
     "start_time": "2023-07-18T01:03:51.720095Z"
    }
   }
  },
  {
   "cell_type": "code",
   "execution_count": 7,
   "outputs": [
    {
     "data": {
      "text/plain": "'{\"ruleId\":\"rule-geometry1\",\"type\":\"DICT\",\"value\":{\"square\":27.5,\"is_square\":false},\"fits\":true}'"
     },
     "execution_count": 7,
     "metadata": {},
     "output_type": "execute_result"
    }
   ],
   "source": [
    "rule_id = 'rule-geometry1'\n",
    "payload = {\n",
    "  \"w\": 5.5,\n",
    "  \"h\": 5\n",
    "}\n",
    "\n",
    "response = requests.post(url=\"{base}/eval/{workflow_id}/{rule_id}\".format(base=API_PREFIX, workflow_id=WORKFLOW_ID, rule_id=rule_id), json=payload)\n",
    "response.text"
   ],
   "metadata": {
    "collapsed": false,
    "ExecuteTime": {
     "end_time": "2023-07-18T01:03:52.039050Z",
     "start_time": "2023-07-18T01:03:52.022769Z"
    }
   }
  },
  {
   "cell_type": "code",
   "execution_count": 7,
   "outputs": [],
   "source": [],
   "metadata": {
    "collapsed": false,
    "ExecuteTime": {
     "end_time": "2023-07-18T01:03:52.056938Z",
     "start_time": "2023-07-18T01:03:52.038716Z"
    }
   }
  }
 ],
 "metadata": {
  "kernelspec": {
   "display_name": "Python 3",
   "language": "python",
   "name": "python3"
  },
  "language_info": {
   "codemirror_mode": {
    "name": "ipython",
    "version": 2
   },
   "file_extension": ".py",
   "mimetype": "text/x-python",
   "name": "python",
   "nbconvert_exporter": "python",
   "pygments_lexer": "ipython2",
   "version": "2.7.6"
  }
 },
 "nbformat": 4,
 "nbformat_minor": 0
}
